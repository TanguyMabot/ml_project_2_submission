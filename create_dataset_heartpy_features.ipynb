{
 "cells": [
  {
   "cell_type": "markdown",
   "id": "3606f564",
   "metadata": {},
   "source": [
    "# In this notebook we are creating a crude training and test set for logistic regression"
   ]
  },
  {
   "cell_type": "markdown",
   "id": "93a6dfcb",
   "metadata": {},
   "source": [
    "Import libraries"
   ]
  },
  {
   "cell_type": "code",
   "execution_count": 8,
   "id": "e5a97dab",
   "metadata": {},
   "outputs": [],
   "source": [
    "import matplotlib.pyplot  as plt \n",
    "import numpy as np \n",
    "import wfdb\n",
    "from utils import *\n",
    "import heartpy as hp\n",
    "import pandas as pd \n",
    "import os\n",
    "import re"
   ]
  },
  {
   "cell_type": "code",
   "execution_count": 9,
   "id": "b5f3beca",
   "metadata": {},
   "outputs": [],
   "source": [
    "NB_SAMPLES_PER_MINUTE = 6000\n",
    "\n",
    "train_files = ['a01', 'c01', 'b01', 'a02', 'c02', 'b02', 'a03', 'c03', \n",
    "              'b03', 'a04', 'c04', 'b04', 'a05', 'c05', 'a06', 'c06', \n",
    "              'a07', 'c07', 'a08', 'c08', 'a09', 'a10', 'a11', 'a12', \n",
    "              'a13', 'a14', 'a15', 'a16']\n",
    "\n",
    "\n",
    "test_files = ['b05','c09','c10','a17','a18','a19','a20']\n",
    " \n",
    "# assign directory\n",
    "directory = 'apnea-ecg-database-1.0.0'"
   ]
  },
  {
   "cell_type": "markdown",
   "id": "bdd79775",
   "metadata": {},
   "source": [
    "This function generates the csv with two features for each segment of 60 segments, the bpm and the sdnn"
   ]
  },
  {
   "cell_type": "code",
   "execution_count": 10,
   "id": "5bc60507",
   "metadata": {},
   "outputs": [],
   "source": [
    "# creates csv in current directory\n",
    "def create_data_csv(source_directory, files, output_name):\n",
    "    samples = []\n",
    "    for filename in files:\n",
    "        print(filename)\n",
    "        labels_session = []\n",
    "\n",
    "        # load the outputs\n",
    "        with open(\"outputs/\" + filename + \".txt\", \"r\") as file:\n",
    "            lines = file.readlines()\n",
    "            for line in lines:\n",
    "                labels_session.append(1 if re.split(\" +\", line)[3] == \"A\" else 0)\n",
    "\n",
    "        # here we want to make sure that we take the number of samples measured in the output file\n",
    "        nb_samples_output = int(re.split(\" +\", lines[-1])[2]) + NB_SAMPLES_PER_MINUTE\n",
    "        labels_session = labels_session[1:]\n",
    "        # measure the ecg using wfdb and heartpy\n",
    "        record = wfdb.rdrecord(\n",
    "            source_directory + \"/\" + filename\n",
    "        )  # ,  sampfrom = 0, sampto = nb_samples_output)\n",
    "        # we do this because the number of labels could be bigger than the signal length\n",
    "        session_ecg = record.p_signal[0:nb_samples_output]\n",
    "\n",
    "        # compute the heart rates and sdnn, for every two minute with a slide of 60 seconds\n",
    "        session_ecg = session_ecg.reshape((len(session_ecg)))\n",
    "        working_data, measures = hp.process_segmentwise(\n",
    "            session_ecg[3000:],\n",
    "            sample_rate=100.0,\n",
    "            segment_width=60,\n",
    "            segment_overlap=0,\n",
    "            segment_min_size=0,\n",
    "            replace_outliers=True,\n",
    "        )\n",
    "\n",
    "        nb_samples = min(len(labels_session), len(measures[\"bpm\"]))\n",
    "\n",
    "        labels_session = labels_session[0:nb_samples]\n",
    "\n",
    "        hr = measures[\"bpm\"][0:nb_samples]\n",
    "        hrv_sdnn = measures[\"sdnn\"][0:nb_samples]\n",
    "        handle_nans(hr)\n",
    "        handle_nans(hrv_sdnn)\n",
    "\n",
    "        session_samples = np.c_[labels_session, hr, hrv_sdnn]\n",
    "\n",
    "        samples.extend(session_samples)\n",
    "    np.savetxt(output_name + \".csv\", samples, delimiter=\",\", fmt=(\"%d, %f, %f\"))"
   ]
  },
  {
   "cell_type": "code",
   "execution_count": 11,
   "id": "f364770b",
   "metadata": {},
   "outputs": [
    {
     "name": "stdout",
     "output_type": "stream",
     "text": [
      "a01\n",
      "c01\n",
      "b01\n",
      "a02\n",
      "c02\n",
      "b02\n",
      "a03\n",
      "c03\n",
      "b03\n",
      "a04\n",
      "c04\n",
      "b04\n",
      "a05\n",
      "c05\n",
      "a06\n",
      "c06\n",
      "a07\n",
      "c07\n",
      "a08\n",
      "c08\n",
      "a09\n",
      "a10\n",
      "a11\n",
      "a12\n",
      "a13\n",
      "a14\n",
      "a15\n",
      "a16\n",
      "b05\n",
      "c09\n",
      "c10\n",
      "a17\n",
      "a18\n",
      "a19\n",
      "a20\n"
     ]
    }
   ],
   "source": [
    "create_data_csv(directory, train_files, 'train_set')\n",
    "create_data_csv(directory, test_files, 'test_set')\n"
   ]
  },
  {
   "cell_type": "markdown",
   "id": "ce228985",
   "metadata": {},
   "source": [
    "Here we are looking for the ratio of apnea and non apnea in our dataset"
   ]
  },
  {
   "cell_type": "code",
   "execution_count": null,
   "id": "14df7bfc",
   "metadata": {},
   "outputs": [],
   "source": [
    "# creates csv in current directory\n",
    "def compute_ratio(source_directory, files):\n",
    "    labels = []\n",
    "    for filename in files:\n",
    "        labels_session = []\n",
    "        # load the outputs\n",
    "        with open(\"outputs/\" + filename + \".txt\", \"r\") as file:\n",
    "            lines = file.readlines()\n",
    "            for line in lines:\n",
    "                labels_session.append(1 if re.split(\" +\", line)[3] == \"A\" else 0)\n",
    "        labels.extend(labels_session)\n",
    "\n",
    "    print(\"ratio of apnea : \", sum(labels) / len(labels))\n",
    "\n",
    "all_recordings = []\n",
    "\n",
    "all_recordings.extend(train_files)\n",
    "all_recordings.extend(test_files)    \n",
    "\n",
    "compute_ratio(directory, all_recordings)\n"
   ]
  },
  {
   "cell_type": "code",
   "execution_count": null,
   "id": "56892d7d",
   "metadata": {},
   "outputs": [],
   "source": []
  }
 ],
 "metadata": {
  "kernelspec": {
   "display_name": "Python 3 (ipykernel)",
   "language": "python",
   "name": "python3"
  },
  "language_info": {
   "codemirror_mode": {
    "name": "ipython",
    "version": 3
   },
   "file_extension": ".py",
   "mimetype": "text/x-python",
   "name": "python",
   "nbconvert_exporter": "python",
   "pygments_lexer": "ipython3",
   "version": "3.9.12"
  }
 },
 "nbformat": 4,
 "nbformat_minor": 5
}
