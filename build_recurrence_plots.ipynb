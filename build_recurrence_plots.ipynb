{
 "cells": [
  {
   "cell_type": "markdown",
   "id": "5479638a",
   "metadata": {},
   "source": [
    "# This notebook generates the recurrence plots from raw ecg signals"
   ]
  },
  {
   "cell_type": "markdown",
   "id": "2472f538",
   "metadata": {},
   "source": [
    "Import libraries"
   ]
  },
  {
   "cell_type": "code",
   "execution_count": 1,
   "id": "5870f40f",
   "metadata": {},
   "outputs": [],
   "source": [
    "import wfdb\n",
    "import os\n",
    "import numpy as np\n",
    "from utils import *\n",
    "from scipy import signal\n",
    "import matplotlib.pyplot as plt\n",
    "from sklearn.preprocessing import normalize"
   ]
  },
  {
   "cell_type": "markdown",
   "id": "6976682f",
   "metadata": {},
   "source": [
    "Useful constants"
   ]
  },
  {
   "cell_type": "code",
   "execution_count": 2,
   "id": "b868f4cf",
   "metadata": {},
   "outputs": [],
   "source": [
    "NB_S_PER_MIN = 6000\n",
    "SAMPLING_FREQUENCY = 100\n",
    "LOWER_BOUND_FILTER = 1\n",
    "UPPER_BOUND_FILTER = 48\n",
    "NB_S_PER_HALF_MIN = 3000\n",
    "\n",
    "train_files = ['a01', 'c01', 'b01', 'a02', 'c02', 'b02', 'a03', 'c03', \n",
    "              'b03', 'a04', 'c04', 'b04', 'a05', 'c05', 'a06', 'c06', \n",
    "              'a07', 'c07', 'a08', 'c08', 'a09', 'a10', 'a11', 'a12', \n",
    "              'a13', 'a14', 'a15', 'a16']\n",
    "\n",
    "\n",
    "\n",
    "test_files = ['b05','c09','c10','a17','a18','a19','a20']\n",
    " \n",
    "# assign directory\n",
    "directory = './apnea-ecg-database-1.0.0/'\n",
    "\n",
    "out_directory_train = './Recurrence_Plots/Train/'\n",
    "out_directory_test = './Recurrence_Plots/Test/'"
   ]
  },
  {
   "cell_type": "markdown",
   "id": "64f03b7a",
   "metadata": {},
   "source": [
    "This function generates a matrix which is the recurrence plot from signal s"
   ]
  },
  {
   "cell_type": "code",
   "execution_count": 3,
   "id": "9d41c330",
   "metadata": {},
   "outputs": [],
   "source": [
    "def rec_plot(s, eps=0.07):\n",
    "    N = len(s)\n",
    "    rows_repeated = np.repeat(s.reshape(1, N), N, axis=0)\n",
    "    columns_repeated = np.repeat(s.reshape(N, 1), N, axis=1)\n",
    "\n",
    "    return np.heaviside(-(np.absolute(columns_repeated - rows_repeated) - eps), 1)\n"
   ]
  },
  {
   "cell_type": "markdown",
   "id": "71612e9d",
   "metadata": {},
   "source": [
    "This function generates the RP images in format png. to intended directory with a csv file that maps filenames to annotation(apnea or not)"
   ]
  },
  {
   "cell_type": "code",
   "execution_count": 5,
   "id": "2f33af2d",
   "metadata": {},
   "outputs": [],
   "source": [
    "def create_signals_arrays(source_directory, files, out_directory, csv_path):\n",
    "    \"\"\"generates the RP images in format png. to intended directory with a csv file\n",
    "    that maps filenames to annotation(apnea or not)\n",
    "    Args:\n",
    "        source_directory:          string\n",
    "        files:                     filenames list\n",
    "        out_directory:             string\n",
    "        csv_path:                  csv path for annotations\n",
    "    \"\"\"\n",
    "    splitted_out_directory = out_directory.split('/')\n",
    "    #print(splitted_out_directory)\n",
    "    os.mkdir(splitted_out_directory[1])\n",
    "    os.mkdir( splitted_out_directory[1] + '/' + splitted_out_directory[2] )\n",
    "    spc_labels_file = open(out_directory + csv_path, \"a\")\n",
    "    spc_labels_file.write(\"image,label\")\n",
    "    plt.ioff()\n",
    "    for filename in files:\n",
    "        i = 0\n",
    "        path = source_directory + filename\n",
    "\n",
    "        print(filename)\n",
    "        record = wfdb.rdrecord(path)\n",
    "        apnea = wfdb.rdann(path, \"apn\")\n",
    "        ecg = record.p_signal\n",
    "        ecg = ecg.reshape(len(ecg))\n",
    "        ecg = bandpass_signal(ecg, LOWER_BOUND_FILTER, UPPER_BOUND_FILTER)\n",
    "        # choose minimum length\n",
    "        length = min(\n",
    "            len(apnea.symbol) - 1, int((len(ecg) - NB_S_PER_HALF_MIN) / NB_S_PER_MIN)\n",
    "        )\n",
    "\n",
    "        for j in range(length):\n",
    "            label = apnea.symbol[j + 1]\n",
    "            segment = ecg[\n",
    "                NB_S_PER_HALF_MIN\n",
    "                + (NB_S_PER_MIN * j) : NB_S_PER_HALF_MIN\n",
    "                + (NB_S_PER_MIN * (j + 1))\n",
    "            ]\n",
    "\n",
    "            # save recurrence plot\n",
    "            rp_file_name = \"rp_\" + filename + \"_\" + str(i) + \".png\"\n",
    "\n",
    "            plt.matshow(rec_plot(segment), cmap=\"Greys\")\n",
    "\n",
    "            plt.axis(\"off\")\n",
    "            plt.savefig(\n",
    "                out_directory + rp_file_name, bbox_inches=\"tight\", pad_inches=0.0\n",
    "            )\n",
    "            plt.close()\n",
    "            # add line to csv\n",
    "            spc_labels_file.write(rp_file_name + \",\" + label + \"\\n\")\n",
    "            # increment 1\n",
    "            i += 1\n",
    "\n",
    "    spc_labels_file.close()"
   ]
  },
  {
   "cell_type": "markdown",
   "id": "6d97ff2a",
   "metadata": {},
   "source": [
    "## We create the RP for train and test"
   ]
  },
  {
   "cell_type": "code",
   "execution_count": null,
   "id": "9659b39c",
   "metadata": {},
   "outputs": [],
   "source": [
    "create_signals_arrays(directory, train_files, out_directory_train, \"rp_train_labels.csv\")"
   ]
  },
  {
   "cell_type": "code",
   "execution_count": null,
   "id": "30be386f",
   "metadata": {},
   "outputs": [],
   "source": [
    "create_signals_arrays(directory, test_files, out_directory_test, \"rp_test_labels.csv\")"
   ]
  }
 ],
 "metadata": {
  "kernelspec": {
   "display_name": "Python 3 (ipykernel)",
   "language": "python",
   "name": "python3"
  },
  "language_info": {
   "codemirror_mode": {
    "name": "ipython",
    "version": 3
   },
   "file_extension": ".py",
   "mimetype": "text/x-python",
   "name": "python",
   "nbconvert_exporter": "python",
   "pygments_lexer": "ipython3",
   "version": "3.9.12"
  }
 },
 "nbformat": 4,
 "nbformat_minor": 5
}
