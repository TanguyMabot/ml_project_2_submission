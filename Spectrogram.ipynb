{
 "cells": [
  {
   "cell_type": "code",
   "execution_count": 1,
   "id": "5870f40f",
   "metadata": {},
   "outputs": [],
   "source": [
    "import re\n",
    "import wfdb\n",
    "import numpy as np\n",
    "from scipy import signal\n",
    "from scipy.fft import fftshift\n",
    "import matplotlib.pyplot as plt\n",
    "from sklearn.preprocessing import normalize\n",
    "from utils import *"
   ]
  },
  {
   "cell_type": "code",
   "execution_count": 2,
   "id": "b868f4cf",
   "metadata": {},
   "outputs": [],
   "source": [
    "NB_S_PER_MIN = 6000\n",
    "SAMPLING_FREQUENCY = 100\n",
    "LOWER_BOUND_FILTER = 1\n",
    "UPPER_BOUND_FILTER = 48\n",
    "NB_S_PER_HALF_MIN = 3000\n",
    "\n",
    "train_files = ['a01', 'c01', 'b01', 'a02', 'c02', 'b02', 'a03', 'c03', \n",
    "              'b03', 'a04', 'c04', 'b04', 'a05', 'c05', 'a06', 'c06', \n",
    "              'a07', 'c07', 'a08', 'c08', 'a09', 'a10', 'a11', 'a12', \n",
    "              'a13', 'a14', 'a15', 'a16']\n",
    "\n",
    "\n",
    "\n",
    "test_files = ['b05','c09','c10','a17','a18','a19','a20']\n",
    " \n",
    "# assign directory\n",
    "directory = './apnea-ecg-database-1.0.0/'\n",
    "\n",
    "out_directory_train = './week2/Spectrogram/Train/'\n",
    "out_directory_test = './week2/Spectrogram/Test/'"
   ]
  },
  {
   "cell_type": "code",
   "execution_count": 3,
   "id": "21ded334",
   "metadata": {},
   "outputs": [],
   "source": [
    "def bandpass_signal(xn, lower,upper):\n",
    "    \n",
    "    \n",
    "    length = len(xn)\n",
    "    t = np.linspace(-1, 1, length)\n",
    "\n",
    "    b, a = signal.butter(3, [lower, upper], btype='bandpass',fs=100)\n",
    "\n",
    "\n",
    "    zi = signal.lfilter_zi(b, a)\n",
    "\n",
    "    z, _ = signal.lfilter(b, a, xn, zi=zi*xn[0])\n",
    "    z2, _ = signal.lfilter(b, a, z, zi=zi*z[0])\n",
    "    y = signal.filtfilt(b, a, xn)\n",
    "\n",
    "    return y"
   ]
  },
  {
   "cell_type": "code",
   "execution_count": 4,
   "id": "2f33af2d",
   "metadata": {},
   "outputs": [],
   "source": [
    "#return signals segments in forms of array with the associated label\n",
    "def create_signals_arrays(source_directory, files, out_directory, csv_path):\n",
    "    samples = []\n",
    "    labels = []\n",
    "    \n",
    "    \n",
    "    spc_labels_file = open(out_directory + csv_path, 'a')\n",
    "    spc_labels_file.write('image,label')\n",
    "    plt.ioff()    \n",
    "    for filename in files:\n",
    "        i = 0\n",
    "        path = source_directory + filename\n",
    "\n",
    "        print(filename)\n",
    "        record = wfdb.rdrecord(path) \n",
    "        apnea  = wfdb.rdann (path,'apn')     \n",
    "        ecg = record.p_signal\n",
    "        ecg = ecg.reshape(len(ecg))\n",
    "        ecg = bandpass_signal(ecg, LOWER_BOUND_FILTER, UPPER_BOUND_FILTER)\n",
    "\n",
    "        length = min (len(apnea.symbol) - 1 , int ((len(ecg) - NB_S_PER_HALF_MIN) / NB_S_PER_MIN))\n",
    "\n",
    "        for j in range (length):\n",
    "            label = apnea.symbol[j + 1]\n",
    "            segment = ecg[NB_S_PER_HALF_MIN + (NB_S_PER_MIN * j) : NB_S_PER_HALF_MIN + (NB_S_PER_MIN * (j+1))]\n",
    "            #print(segment)\n",
    "           \n",
    "            #save spectrogram plot\n",
    "            spc_file_name = \"spc_\" + filename + \"_\" + str(i) + \".png\"\n",
    "            f, t, Sxx = signal.spectrogram(segment, SAMPLING_FREQUENCY)\n",
    "            plt.pcolormesh(t, f, Sxx, shading='gouraud')\n",
    "            # x-axis: frequency [Hz]\n",
    "            # y-axis: time [sec]\n",
    "            plt.axis('off')\n",
    "            plt.savefig(out_directory + spc_file_name, bbox_inches='tight', pad_inches = 0.0)\n",
    "            plt.close()\n",
    "            #add line to csv\n",
    "            spc_labels_file.write(spc_file_name + ',' + label + '\\n')\n",
    "            #increment 1\n",
    "            i += 1\n",
    "            \n",
    "\n",
    "            labels.append(apnea.symbol[j + 1])\n",
    "            #samples.append(ecg[NB_S_PER_MIN/2 + (NB_S_PER_MIN * j) : NB_S_PER_MIN/2 + NB_S_PER_MIN * (j+1)])\n",
    "            \n",
    "    spc_labels_file.close()"
   ]
  },
  {
   "cell_type": "code",
   "execution_count": 8,
   "id": "07c8f915",
   "metadata": {},
   "outputs": [
    {
     "name": "stdout",
     "output_type": "stream",
     "text": [
      "a01\n",
      "c01\n",
      "b01\n",
      "a02\n",
      "c02\n",
      "b02\n",
      "a03\n",
      "c03\n",
      "b03\n",
      "a04\n",
      "c04\n",
      "b04\n",
      "a05\n",
      "c05\n",
      "a06\n",
      "c06\n",
      "a07\n",
      "c07\n",
      "a08\n",
      "c08\n",
      "a09\n",
      "a10\n",
      "a11\n",
      "a12\n",
      "a13\n",
      "a14\n",
      "a15\n",
      "a16\n"
     ]
    }
   ],
   "source": [
    "create_signals_arrays(directory, train_files, out_directory_train, \"spc_train_labels.csv\")"
   ]
  },
  {
   "cell_type": "code",
   "execution_count": null,
   "id": "30be386f",
   "metadata": {},
   "outputs": [
    {
     "name": "stdout",
     "output_type": "stream",
     "text": [
      "b05\n",
      "c09\n",
      "c10\n",
      "a17\n",
      "a18\n",
      "a19\n",
      "a20\n"
     ]
    }
   ],
   "source": [
    "create_signals_arrays(directory, test_files, out_directory_test, \"spc_test_labels.csv\")"
   ]
  },
  {
   "cell_type": "code",
   "execution_count": 25,
   "id": "95a6f458",
   "metadata": {},
   "outputs": [],
   "source": [
    "#return signals segments in forms of array with the associated label\n",
    "def create_signals_arrays(source_directory, files):\n",
    "    samples = []\n",
    "    labels = []\n",
    "    for filename in files:\n",
    "        print(filename)\n",
    "        labels_session = []\n",
    "        samples_session =[]\n",
    "        #load the outputs\n",
    "        with open('./outputs/' + filename + '.txt', 'r') as file:\n",
    "            lines = file.readlines()\n",
    "            for line in lines:\n",
    "                labels_session.append(1 if re.split(' +', line)[3] == 'A' else 0)\n",
    "                \n",
    "        #here we want to make sure that we take the number of samples measured in the output file\n",
    "        nb_samples_output = int(re.split(' +', lines[-1])[2]) + NB_SAMPLES_PER_MINUTE\n",
    "        labels_session = labels_session[1:]\n",
    "        #measure the ecg using wfdb and heartpy\n",
    "        record = wfdb.rdrecord(source_directory + '/' +  filename)#,  sampfrom = 0, sampto = nb_samples_output)\n",
    "        #we do this because the number of labels could be bigger than the signal length\n",
    "        session_ecg = record.p_signal[ (NB_SAMPLES_PER_MINUTE//2) : nb_samples_output]\n",
    "        session_ecg = session_ecg.reshape(len(session_ecg))\n",
    "\n",
    "        \n",
    "        for i in range(0, len(session_ecg), NB_SAMPLES_PER_MINUTE):\n",
    "            samples_session.append(session_ecg[i : i + NB_SAMPLES_PER_MINUTE])\n",
    "        if(len(samples_session[-1]) < NB_SAMPLES_PER_MINUTE):\n",
    "            samples_session = samples_session[:-1]\n",
    "        labels.extend(labels_session[:len(samples_session)])\n",
    "        samples.extend(samples_session)\n",
    "    return np.stack(samples,axis = 0), np.array(labels)"
   ]
  },
  {
   "cell_type": "code",
   "execution_count": 26,
   "id": "b4754469",
   "metadata": {},
   "outputs": [
    {
     "name": "stdout",
     "output_type": "stream",
     "text": [
      "a01\n",
      "c01\n",
      "b01\n",
      "a02\n",
      "c02\n",
      "b02\n",
      "a03\n",
      "c03\n",
      "b03\n",
      "a04\n",
      "c04\n",
      "b04\n",
      "a05\n",
      "c05\n",
      "a06\n",
      "c06\n",
      "a07\n",
      "c07\n",
      "a08\n",
      "c08\n",
      "a09\n",
      "a10\n",
      "a11\n",
      "a12\n",
      "a13\n",
      "a14\n",
      "a15\n",
      "a16\n",
      "b05\n",
      "c09\n",
      "c10\n",
      "a17\n",
      "a18\n",
      "a19\n",
      "a20\n"
     ]
    }
   ],
   "source": [
    "train_signals_samples, train_labels = create_signals_arrays(directory, train_files)\n",
    "\n",
    "test_signals_samples, test_labels = create_signals_arrays(directory, test_files)"
   ]
  },
  {
   "cell_type": "markdown",
   "id": "6acbfb9e",
   "metadata": {},
   "source": [
    "### Preprocessing"
   ]
  },
  {
   "cell_type": "code",
   "execution_count": 8,
   "id": "8cccc8f3",
   "metadata": {},
   "outputs": [
    {
     "ename": "SyntaxError",
     "evalue": "invalid syntax (<ipython-input-8-350a3e481424>, line 3)",
     "output_type": "error",
     "traceback": [
      "\u001b[0;36m  File \u001b[0;32m\"<ipython-input-8-350a3e481424>\"\u001b[0;36m, line \u001b[0;32m3\u001b[0m\n\u001b[0;31m    for idx in range\u001b[0m\n\u001b[0m                    ^\u001b[0m\n\u001b[0;31mSyntaxError\u001b[0m\u001b[0;31m:\u001b[0m invalid syntax\n"
     ]
    }
   ],
   "source": [
    "def bandpass_signal(xn, lower,upper):\n",
    "    \n",
    "    for idx in range\n",
    "    length = len(xn)\n",
    "    t = np.linspace(-1, 1, length)\n",
    "\n",
    "    b, a = signal.butter(3, [lower, upper], btype='bandpass',fs=100)\n",
    "\n",
    "\n",
    "    zi = signal.lfilter_zi(b, a)\n",
    "\n",
    "    z, _ = signal.lfilter(b, a, xn, zi=zi*xn[0])\n",
    "    z2, _ = signal.lfilter(b, a, z, zi=zi*z[0])\n",
    "    y = signal.filtfilt(b, a, xn)\n",
    "\n",
    "    return y\n",
    "\n",
    "def standardize(x):\n",
    "    \"\"\"Standardize the original data set.\"\"\"\n",
    "    mean_x = np.mean(x, axis=1)\n",
    "    std_x = np.std(x, axis=1)\n",
    "    \n",
    "    for idx in range(train_signals_samples.shape[0]):\n",
    "        x[idx,:] = x[idx,:] - mean_x[idx]\n",
    "        x[idx,:] = x[idx,:] / std_x[idx]\n",
    "    return x\n",
    "\n"
   ]
  },
  {
   "cell_type": "code",
   "execution_count": 20,
   "id": "d5fb6f0a",
   "metadata": {},
   "outputs": [
    {
     "name": "stdout",
     "output_type": "stream",
     "text": [
      "13686\n"
     ]
    },
    {
     "data": {
      "text/plain": [
       "(13686, 6000)"
      ]
     },
     "execution_count": 20,
     "metadata": {},
     "output_type": "execute_result"
    }
   ],
   "source": [
    "print(train_signals_samples.shape[0])\n",
    "np.std(train_signals_samples,axis=1).shape\n",
    "standardize(train_signals_samples).shape"
   ]
  },
  {
   "cell_type": "markdown",
   "id": "a2c7db57",
   "metadata": {},
   "source": [
    "# Normalize\n",
    "\n",
    "sum_of_rows = train_signals_samples.sum(axis=1)\n",
    "train_signals_samples_norm = train_signals_samples / sum_of_rows[:, np.newaxis]\n"
   ]
  },
  {
   "cell_type": "code",
   "execution_count": 22,
   "id": "fa4965f1",
   "metadata": {},
   "outputs": [],
   "source": [
    "# Standardize\n",
    "\n",
    "train_signals_samples = standardize(train_signals_samples)"
   ]
  },
  {
   "cell_type": "code",
   "execution_count": null,
   "id": "24211709",
   "metadata": {},
   "outputs": [],
   "source": []
  },
  {
   "cell_type": "code",
   "execution_count": 7,
   "id": "6e1fbe28",
   "metadata": {},
   "outputs": [
    {
     "name": "stdout",
     "output_type": "stream",
     "text": [
      "0\n"
     ]
    },
    {
     "ename": "NameError",
     "evalue": "name 'fs' is not defined",
     "output_type": "error",
     "traceback": [
      "\u001b[0;31m---------------------------------------------------------------------------\u001b[0m",
      "\u001b[0;31mNameError\u001b[0m                                 Traceback (most recent call last)",
      "\u001b[0;32m<ipython-input-7-d6157886be76>\u001b[0m in \u001b[0;36m<module>\u001b[0;34m\u001b[0m\n\u001b[1;32m      7\u001b[0m \u001b[0;34m\u001b[0m\u001b[0m\n\u001b[1;32m      8\u001b[0m \u001b[0;31m# The Nyquist rate of the signal.\u001b[0m\u001b[0;34m\u001b[0m\u001b[0;34m\u001b[0m\u001b[0;34m\u001b[0m\u001b[0m\n\u001b[0;32m----> 9\u001b[0;31m \u001b[0mnyq_rate\u001b[0m \u001b[0;34m=\u001b[0m \u001b[0mfs\u001b[0m \u001b[0;34m/\u001b[0m \u001b[0;36m2.0\u001b[0m\u001b[0;34m\u001b[0m\u001b[0;34m\u001b[0m\u001b[0m\n\u001b[0m\u001b[1;32m     10\u001b[0m \u001b[0;34m\u001b[0m\u001b[0m\n\u001b[1;32m     11\u001b[0m \u001b[0;31m# The desired width of the transition from pass to stop,\u001b[0m\u001b[0;34m\u001b[0m\u001b[0;34m\u001b[0m\u001b[0;34m\u001b[0m\u001b[0m\n",
      "\u001b[0;31mNameError\u001b[0m: name 'fs' is not defined"
     ]
    }
   ],
   "source": [
    "# Bandpass filter between 3 and 45Hz\n",
    "\n",
    "idx = 1\n",
    "y = train_signals_samples_norm[idx,:]\n",
    "label = train_labels[idx]\n",
    "print(label)\n",
    "\n",
    "# The Nyquist rate of the signal.\n",
    "nyq_rate = fs / 2.0\n",
    "\n",
    "# The desired width of the transition from pass to stop,\n",
    "# relative to the Nyquist rate.  We'll design the filter\n",
    "# with a 5 Hz transition width.\n",
    "width = 5.0/nyq_rate\n",
    "\n",
    "# The desired attenuation in the stop band, in dB.\n",
    "ripple_db = 60.0\n",
    "\n",
    "# Compute the order and Kaiser parameter for the FIR filter.\n",
    "N, beta = signal.kaiserord(ripple_db, width)\n",
    "\n",
    "# The cutoff frequencies of the filter.\n",
    "f1 = 3\n",
    "f2 = 45\n",
    "\n",
    "# Use firwin with a Kaiser window to create a lowpass FIR filter.\n",
    "taps = signal.firwin(N-1, [f1/nyq_rate, f2/nyq_rate], window=('kaiser', beta))\n",
    "\n",
    "# Use lfilter to filter x with the FIR filter.\n",
    "filtered_y = signal.lfilter(taps, 1.0, y)"
   ]
  },
  {
   "cell_type": "markdown",
   "id": "25d26864",
   "metadata": {},
   "source": [
    "### Spectrograms for each minute"
   ]
  },
  {
   "cell_type": "code",
   "execution_count": 11,
   "id": "84e673bd",
   "metadata": {},
   "outputs": [
    {
     "data": {
      "image/png": "[encoded data removed]",
      "text/plain": [
       "<Figure size 432x288 with 1 Axes>"
      ]
     },
     "metadata": {
      "needs_background": "light"
     },
     "output_type": "display_data"
    }
   ],
   "source": [
    "# FFT using blackman window\n",
    "\n",
    "f, t, Sxx = signal.spectrogram(y, fs)\n",
    "plt.pcolormesh(t, f, Sxx, shading='gouraud')\n",
    "plt.ylabel('Frequency [Hz]')\n",
    "plt.xlabel('Time [sec]')\n",
    "plt.title(\"Signal \" +str(idx) + ', apnea = ' + str(label))\n",
    "plt.show()"
   ]
  },
  {
   "cell_type": "code",
   "execution_count": 12,
   "id": "aa06a92f",
   "metadata": {},
   "outputs": [
    {
     "data": {
      "text/plain": [
       "(129, 26)"
      ]
     },
     "execution_count": 12,
     "metadata": {},
     "output_type": "execute_result"
    }
   ],
   "source": [
    "Sxx.shape"
   ]
  },
  {
   "cell_type": "code",
   "execution_count": 10,
   "id": "d858ffc5",
   "metadata": {},
   "outputs": [
    {
     "name": "stdout",
     "output_type": "stream",
     "text": [
      "0\n"
     ]
    }
   ],
   "source": [
    "# CWT \n",
    "idx = 1\n",
    "y = train_signals_samples_norm[idx,:]\n",
    "label = train_labels[idx]\n",
    "print(label)\n",
    "fs = 100"
   ]
  },
  {
   "cell_type": "markdown",
   "id": "655b6e88",
   "metadata": {},
   "source": [
    "### All signals"
   ]
  },
  {
   "cell_type": "markdown",
   "id": "07d0db8f",
   "metadata": {},
   "source": [
    "for idx in range(train_signals_samples.shape[0]):\n",
    "    y = train_signals_samples[idx,:]\n",
    "    f, t, Sxx = signal.spectrogram(y, fs)\n",
    "    plt.pcolormesh(t, f, Sxx, shading='gouraud')\n",
    "    plt.ylabel('Frequency [Hz]')\n",
    "    plt.xlabel('Time [sec]')\n",
    "    plt.title(\"Signal \" +str(idx))\n",
    "    plt.show()"
   ]
  },
  {
   "cell_type": "markdown",
   "id": "63d6802a",
   "metadata": {},
   "source": [
    "### Whole spectrogram "
   ]
  },
  {
   "cell_type": "markdown",
   "id": "96d5d18f",
   "metadata": {},
   "source": [
    "y = train_signals_samples.flatten()\n",
    "\n",
    "f, t, Sxx = signal.spectrogram(y, fs)\n",
    "plt.pcolormesh(t, f, Sxx, shading='gouraud')\n",
    "plt.ylabel('Frequency [Hz]')\n",
    "plt.xlabel('Time [sec]')\n",
    "plt.title(\"Whole signal\")\n",
    "plt.show()\n"
   ]
  },
  {
   "cell_type": "code",
   "execution_count": null,
   "id": "c126ea45",
   "metadata": {},
   "outputs": [],
   "source": []
  }
 ],
 "metadata": {
  "kernelspec": {
   "display_name": "Python 3 (ipykernel)",
   "language": "python",
   "name": "python3"
  },
  "language_info": {
   "codemirror_mode": {
    "name": "ipython",
    "version": 3
   },
   "file_extension": ".py",
   "mimetype": "text/x-python",
   "name": "python",
   "nbconvert_exporter": "python",
   "pygments_lexer": "ipython3",
   "version": "3.9.12"
  }
 },
 "nbformat": 4,
 "nbformat_minor": 5
}
